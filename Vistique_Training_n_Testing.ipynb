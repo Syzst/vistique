{
  "nbformat": 4,
  "nbformat_minor": 0,
  "metadata": {
    "colab": {
      "provenance": []
    },
    "kernelspec": {
      "name": "python3",
      "display_name": "Python 3"
    },
    "language_info": {
      "name": "python"
    }
  },
  "cells": [
    {
      "cell_type": "code",
      "execution_count": null,
      "metadata": {
        "id": "H7qfUmtD7Izo"
      },
      "outputs": [],
      "source": [
        "import zipfile\n",
        "import os\n",
        "from tensorflow.keras.preprocessing.image import ImageDataGenerator"
      ]
    },
    {
      "cell_type": "code",
      "source": [
        "!wget --no-check-certificate \\\n",
        "    \"https://github.com/Syzst/vistique/archive/refs/heads/master.zip\" \\\n",
        "    -O \"/tmp/batik-vistique-split.zip\"\n",
        "\n",
        "\n",
        "zip_ref = zipfile.ZipFile('/tmp/batik-vistique-split.zip', 'r') #Opens the zip file in read mode\n",
        "zip_ref.extractall('/tmp') #Extracts the files into the /tmp folder\n",
        "zip_ref.close()"
      ],
      "metadata": {
        "colab": {
          "base_uri": "https://localhost:8080/"
        },
        "id": "UGZiS5zH7gTT",
        "outputId": "f3b3a334-530e-4cb7-f8c6-4c146f5f8e98"
      },
      "execution_count": null,
      "outputs": [
        {
          "output_type": "stream",
          "name": "stdout",
          "text": [
            "--2023-06-13 10:45:50--  https://github.com/Syzst/vistique/archive/refs/heads/master.zip\n",
            "Resolving github.com (github.com)... 140.82.113.3\n",
            "Connecting to github.com (github.com)|140.82.113.3|:443... connected.\n",
            "HTTP request sent, awaiting response... 302 Found\n",
            "Location: https://codeload.github.com/Syzst/vistique/zip/refs/heads/master [following]\n",
            "--2023-06-13 10:45:50--  https://codeload.github.com/Syzst/vistique/zip/refs/heads/master\n",
            "Resolving codeload.github.com (codeload.github.com)... 140.82.114.10\n",
            "Connecting to codeload.github.com (codeload.github.com)|140.82.114.10|:443... connected.\n",
            "HTTP request sent, awaiting response... 200 OK\n",
            "Length: unspecified [application/zip]\n",
            "Saving to: ‘/tmp/batik-vistique-split.zip’\n",
            "\n",
            "/tmp/batik-vistique     [           <=>      ]  55.54M  24.9MB/s    in 2.2s    \n",
            "\n",
            "2023-06-13 10:45:53 (24.9 MB/s) - ‘/tmp/batik-vistique-split.zip’ saved [58236578]\n",
            "\n"
          ]
        }
      ]
    },
    {
      "cell_type": "code",
      "source": [
        "print('Test set Batik Ikat Celup' , len(os.listdir('/tmp/vistique-master/Testing/Batik Ikat Celup')))\n",
        "print('Test set Batik Insang' , len(os.listdir('/tmp/vistique-master/Testing/Batik Insang')))\n",
        "print('Test set Batik Kawung' , len(os.listdir('/tmp/vistique-master/Testing/Batik Kawung')))\n",
        "print('Test set Batik Megamendung' , len(os.listdir('/tmp/vistique-master/Testing/Batik Megamendung')))\n",
        "print('Test set Batik parang' , len(os.listdir('/tmp/vistique-master/Testing/Batik Parang')))\n",
        "print('Train set Batik Ikat Celup' , len(os.listdir('/tmp/vistique-master/Training/Batik Ikat Celup')))\n",
        "print('Train set Batik Insang' , len(os.listdir('/tmp/vistique-master/Training/Batik Insang')))\n",
        "print('Train set Batik Kawung' , len(os.listdir('/tmp/vistique-master/Training/Batik Kawung')))\n",
        "print('Train set Batik Megamendung' , len(os.listdir('/tmp/vistique-master/Training/Batik Megamendung')))\n",
        "print('Train set Batik parang' , len(os.listdir('/tmp/vistique-master/Training/Batik Parang')))\n",
        "\n",
        "\n",
        "#Expected Results\n",
        "#Test set Batik Ikat Celup 90\n",
        "#Test set Batik Insang 90\n",
        "#Test set Batik Kawung 90\n",
        "#Test set Batik Megamendung 90\n",
        "#Test set Batik parang 90\n",
        "#Train set Batik Ikat Celup 210\n",
        "#Train set Batik Insang 210\n",
        "#Train set Batik Kawung 210\n",
        "#Train set Batik Megamendung 210\n",
        "#Train set Batik parang 210"
      ],
      "metadata": {
        "colab": {
          "base_uri": "https://localhost:8080/"
        },
        "id": "1I6OoiH48hKN",
        "outputId": "8d4b88d1-dafe-4c17-8992-695a2f86dbf1"
      },
      "execution_count": null,
      "outputs": [
        {
          "output_type": "stream",
          "name": "stdout",
          "text": [
            "Test set Batik Ikat Celup 90\n",
            "Test set Batik Insang 90\n",
            "Test set Batik Kawung 90\n",
            "Test set Batik Megamendung 90\n",
            "Test set Batik parang 90\n",
            "Train set Batik Ikat Celup 210\n",
            "Train set Batik Insang 210\n",
            "Train set Batik Kawung 210\n",
            "Train set Batik Megamendung 210\n",
            "Train set Batik parang 210\n"
          ]
        }
      ]
    },
    {
      "cell_type": "code",
      "source": [
        "train_dir = \"/tmp/vistique-master/Training\"\n",
        "test_dir = \"/tmp/vistique-master/Testing\"\n",
        "\n",
        "train_datagen = ImageDataGenerator(\n",
        "    rescale=1./255,\n",
        "    shear_range=0.2,\n",
        "    rotation_range=90,\n",
        "    fill_mode='reflect',\n",
        "    zoom_range=0.2,\n",
        "    brightness_range=[0.8, 1.2],\n",
        "    width_shift_range=0.2,\n",
        "    height_shift_range=0.2,\n",
        "    horizontal_flip=True,\n",
        "    vertical_flip=True\n",
        ")\n",
        "\n",
        "testing_datagen = ImageDataGenerator(rescale=1./255)\n",
        "\n",
        "train_generator = train_datagen.flow_from_directory(\n",
        "    directory=train_dir,\n",
        "    target_size=(224,224),\n",
        "    class_mode='categorical',\n",
        "    batch_size=20,\n",
        "    color_mode='rgb'\n",
        ")\n",
        "\n",
        "testing_generator = testing_datagen.flow_from_directory(\n",
        "    directory=test_dir,\n",
        "    target_size=(224,224),\n",
        "    class_mode='categorical',\n",
        "    batch_size=20,\n",
        "    color_mode='rgb'\n",
        ")\n",
        "\n",
        "motives_dict = train_generator.class_indices\n",
        "print(motives_dict)"
      ],
      "metadata": {
        "colab": {
          "base_uri": "https://localhost:8080/"
        },
        "id": "F9pOSZ00_OG7",
        "outputId": "d6b45d10-85b7-400f-a35c-bd93b3f234b1"
      },
      "execution_count": null,
      "outputs": [
        {
          "output_type": "stream",
          "name": "stdout",
          "text": [
            "Found 1050 images belonging to 5 classes.\n",
            "Found 450 images belonging to 5 classes.\n",
            "{'Batik Ikat Celup': 0, 'Batik Insang': 1, 'Batik Kawung': 2, 'Batik Megamendung': 3, 'Batik Parang': 4}\n"
          ]
        }
      ]
    },
    {
      "cell_type": "code",
      "source": [
        "from tensorflow.keras.applications import MobileNetV2\n",
        "\n",
        "base_model = MobileNetV2(\n",
        "    include_top=False,\n",
        "    weights='imagenet',\n",
        "    input_shape=(224, 224, 3),\n",
        "    alpha=0.5,\n",
        "    pooling='avg'\n",
        ")\n",
        "\n",
        "base_model.trainable = False"
      ],
      "metadata": {
        "id": "nXW-HpKq_jMn",
        "colab": {
          "base_uri": "https://localhost:8080/"
        },
        "outputId": "7bb34392-122f-44b1-9fd1-c73b5171b1e7"
      },
      "execution_count": null,
      "outputs": [
        {
          "output_type": "stream",
          "name": "stdout",
          "text": [
            "Downloading data from https://storage.googleapis.com/tensorflow/keras-applications/mobilenet_v2/mobilenet_v2_weights_tf_dim_ordering_tf_kernels_0.5_224_no_top.h5\n",
            "3201480/3201480 [==============================] - 0s 0us/step\n"
          ]
        }
      ]
    },
    {
      "cell_type": "code",
      "source": [
        "import tensorflow as tf\n",
        "\n",
        "def scheduler(epoch, lr):\n",
        "  if epoch <= 10:\n",
        "    return lr\n",
        "  elif 10 < epoch <= 20:\n",
        "    return lr * tf.math.exp(-0.1)\n",
        "  else:\n",
        "    return lr * tf.math.exp(-0.2)\n",
        "\n",
        "lr_callback = tf.keras.callbacks.LearningRateScheduler(scheduler)"
      ],
      "metadata": {
        "id": "p9HDAwD2_-1J"
      },
      "execution_count": null,
      "outputs": []
    },
    {
      "cell_type": "code",
      "source": [
        "EPOCHS = 10\n",
        "LEARNING_RATE = 1e-4\n",
        "TRAIN_STEP = 700//20\n",
        "TEST_STEP = 200//20"
      ],
      "metadata": {
        "id": "Y1mmOn86ARwe"
      },
      "execution_count": null,
      "outputs": []
    },
    {
      "cell_type": "code",
      "source": [
        "from tensorflow.keras.backend import clear_session\n",
        "from tensorflow.keras import Sequential, regularizers\n",
        "from tensorflow.keras.optimizers import Adam\n",
        "from tensorflow.keras.layers import Dense, Dropout, BatchNormalization\n",
        "\n",
        "clear_session()\n",
        "\n",
        "model = Sequential([\n",
        "    base_model,\n",
        "    Dense(100, activation='relu',\n",
        "          kernel_regularizer=regularizers.l1_l2(l1=1e-5, l2=1e-4)\n",
        "    ),\n",
        "    Dropout(0.3),\n",
        "    Dense(5, activation='softmax')\n",
        "])\n",
        "\n",
        "model.compile(\n",
        "    optimizer=Adam(learning_rate=LEARNING_RATE),\n",
        "    loss='categorical_crossentropy',\n",
        "    metrics=['accuracy'],\n",
        ")\n",
        "\n",
        "model.summary()\n",
        "\n",
        "history = model.fit(\n",
        "    train_generator,\n",
        "    validation_data=testing_generator,\n",
        "    steps_per_epoch=TRAIN_STEP,\n",
        "    validation_steps=TEST_STEP,\n",
        "    shuffle=True,\n",
        "    epochs=EPOCHS,\n",
        "    callbacks=[lr_callback]\n",
        ")"
      ],
      "metadata": {
        "colab": {
          "base_uri": "https://localhost:8080/"
        },
        "id": "QA5prd6iAlZd",
        "outputId": "b68f41b1-4603-466d-af94-2786e83a6656"
      },
      "execution_count": null,
      "outputs": [
        {
          "output_type": "stream",
          "name": "stdout",
          "text": [
            "Model: \"sequential\"\n",
            "_________________________________________________________________\n",
            " Layer (type)                Output Shape              Param #   \n",
            "=================================================================\n",
            " mobilenetv2_0.50_224 (Funct  (None, 1280)             706224    \n",
            " ional)                                                          \n",
            "                                                                 \n",
            " dense (Dense)               (None, 100)               128100    \n",
            "                                                                 \n",
            " dropout (Dropout)           (None, 100)               0         \n",
            "                                                                 \n",
            " dense_1 (Dense)             (None, 5)                 505       \n",
            "                                                                 \n",
            "=================================================================\n",
            "Total params: 834,829\n",
            "Trainable params: 128,605\n",
            "Non-trainable params: 706,224\n",
            "_________________________________________________________________\n",
            "Epoch 1/10\n",
            "35/35 [==============================] - 23s 516ms/step - loss: 1.9362 - accuracy: 0.2768 - val_loss: 1.2625 - val_accuracy: 0.5350 - lr: 1.0000e-04\n",
            "Epoch 2/10\n",
            "35/35 [==============================] - 16s 469ms/step - loss: 1.1799 - accuracy: 0.5609 - val_loss: 0.9981 - val_accuracy: 0.6700 - lr: 1.0000e-04\n",
            "Epoch 3/10\n",
            "35/35 [==============================] - 19s 552ms/step - loss: 0.9267 - accuracy: 0.6754 - val_loss: 0.7472 - val_accuracy: 0.7700 - lr: 1.0000e-04\n",
            "Epoch 4/10\n",
            "35/35 [==============================] - 17s 482ms/step - loss: 0.7442 - accuracy: 0.7557 - val_loss: 0.6565 - val_accuracy: 0.8250 - lr: 1.0000e-04\n",
            "Epoch 5/10\n",
            "35/35 [==============================] - 16s 455ms/step - loss: 0.6564 - accuracy: 0.7696 - val_loss: 0.6223 - val_accuracy: 0.8300 - lr: 1.0000e-04\n",
            "Epoch 6/10\n",
            "35/35 [==============================] - 16s 453ms/step - loss: 0.5534 - accuracy: 0.8507 - val_loss: 0.5718 - val_accuracy: 0.8350 - lr: 1.0000e-04\n",
            "Epoch 7/10\n",
            "35/35 [==============================] - 16s 447ms/step - loss: 0.5176 - accuracy: 0.8580 - val_loss: 0.5066 - val_accuracy: 0.8550 - lr: 1.0000e-04\n",
            "Epoch 8/10\n",
            "35/35 [==============================] - 16s 445ms/step - loss: 0.4304 - accuracy: 0.8841 - val_loss: 0.4429 - val_accuracy: 0.8900 - lr: 1.0000e-04\n",
            "Epoch 9/10\n",
            "35/35 [==============================] - 15s 440ms/step - loss: 0.4954 - accuracy: 0.8551 - val_loss: 0.4121 - val_accuracy: 0.8800 - lr: 1.0000e-04\n",
            "Epoch 10/10\n",
            "35/35 [==============================] - 19s 537ms/step - loss: 0.4519 - accuracy: 0.8594 - val_loss: 0.3830 - val_accuracy: 0.9100 - lr: 1.0000e-04\n"
          ]
        }
      ]
    },
    {
      "cell_type": "code",
      "source": [
        "import matplotlib.pyplot as plt\n",
        "\n",
        "train_acc = history.history['accuracy']\n",
        "train_loss = history.history['loss']\n",
        "val_acc = history.history['val_accuracy']\n",
        "val_loss = history.history['val_loss']\n",
        "\n",
        "plt.figure(figsize=(16,6))\n",
        "plt.subplot(1, 2, 1)\n",
        "plt.title('Accuracy Curve')\n",
        "plt.plot(train_acc, label='Training')\n",
        "plt.plot(val_acc, label='Testing')\n",
        "plt.legend()\n",
        "plt.xlabel('Epochs')\n",
        "plt.ylabel('Accuracy')\n",
        "\n",
        "plt.subplot(1, 2, 2)\n",
        "plt.title('Loss Curve')\n",
        "plt.plot(train_loss, label='Training')\n",
        "plt.plot(val_loss, label='Testing')\n",
        "plt.legend()\n",
        "plt.xlabel('Epochs')\n",
        "plt.ylabel('Loss')\n",
        "\n",
        "plt.show()"
      ],
      "metadata": {
        "colab": {
          "base_uri": "https://localhost:8080/",
          "height": 410
        },
        "id": "IW-Eka_mDz-z",
        "outputId": "fda08500-0f43-4ebf-bdcd-578590299c2d"
      },
      "execution_count": null,
      "outputs": [
        {
          "output_type": "display_data",
          "data": {
            "text/plain": [
              "<Figure size 1600x600 with 2 Axes>"
            ],
            "image/png": "[encoded data removed]"
          },
          "metadata": {}
        }
      ]
    },
    {
      "cell_type": "code",
      "source": [
        "from tensorflow.keras.preprocessing.image import img_to_array, load_img\n",
        "import numpy as np\n",
        "\n",
        "test_dir = '/tmp/vistique-master/Testing'\n",
        "\n",
        "for motive in motives_dict.keys():\n",
        "    images_list = os.listdir(os.path.join(test_dir, motive))\n",
        "    # plt.figure(figsize=(16, 20))\n",
        "\n",
        "    correct_count = 0\n",
        "\n",
        "    for idx, image in enumerate(images_list):\n",
        "        img_path = f'/tmp/vistique-master/Testing/{motive}/{image}'\n",
        "        img = load_img(img_path, target_size=(224, 224))\n",
        "\n",
        "        img_array = img_to_array(img) / 255.0\n",
        "        img_array = tf.expand_dims(img_array, 0)\n",
        "\n",
        "        motives_list = list(motives_dict.keys())\n",
        "        prediction = model(img_array)\n",
        "        pred_idx = np.argmax(prediction)\n",
        "        pred_motive = motives_list[pred_idx]\n",
        "        pred_confidence = prediction[0][pred_idx] * 100\n",
        "\n",
        "        if pred_motive == motive:\n",
        "            correct_count += 1\n",
        "\n",
        "    print(f'{motive} Predictions --> {correct_count}/90 correct')\n",
        "# plt.show()\n",
        ""
      ],
      "metadata": {
        "colab": {
          "base_uri": "https://localhost:8080/"
        },
        "id": "vQf0Pdv-EQ7u",
        "outputId": "39515e9d-27d4-4d39-ef83-b2cd5408b63d"
      },
      "execution_count": null,
      "outputs": [
        {
          "output_type": "stream",
          "name": "stdout",
          "text": [
            "Batik Ikat Celup Predictions --> 89/90 correct\n",
            "Batik Insang Predictions --> 84/90 correct\n",
            "Batik Kawung Predictions --> 81/90 correct\n",
            "Batik Megamendung Predictions --> 70/90 correct\n",
            "Batik Parang Predictions --> 83/90 correct\n"
          ]
        }
      ]
    },
    {
      "cell_type": "code",
      "source": [
        "from tensorflow.keras.models import load_model\n",
        "\n",
        "# Save the model\n",
        "model.save('/content/drive/MyDrive/Batik Datasets Saved Model/Batik-Datasets.h5')"
      ],
      "metadata": {
        "id": "WFC-e0KiJqq0"
      },
      "execution_count": null,
      "outputs": []
    },
    {
      "cell_type": "code",
      "source": [
        "# convert keras model to tflite\n",
        "def get_file_size(file_path):\n",
        "    size = os.path.getsize(file_path)\n",
        "    return size\n",
        "\n",
        "def convert_bytes(size, unit=None):\n",
        "    if unit == \"KB\":\n",
        "        return print('File size: ' + str(round(size / 1024, 3)) + ' Kilobytes')\n",
        "    elif unit == \"MB\":\n",
        "        return print('File size: ' + str(round(size / (1024 * 1024), 3)) + ' Megabytes')\n",
        "    else:\n",
        "        return print('File size: ' + str(size) + ' bytes')"
      ],
      "metadata": {
        "id": "q2UAQ_E0r12G"
      },
      "execution_count": null,
      "outputs": []
    },
    {
      "cell_type": "code",
      "source": [
        "from keras.models import load_model\n",
        "model = load_model(\"/content/drive/MyDrive/Batik Datasets Saved Model/Batik-Datasets.h5\")\n",
        "\n",
        "TF_LITE_MODEL_FILE_NAME = \"tflite_model.tflite\"\n",
        "tf_lite_converter = tf.lite.TFLiteConverter.from_keras_model(model)\n",
        "tflite_model = tf_lite_converter.convert()\n",
        "tflite_model_name = TF_LITE_MODEL_FILE_NAME\n",
        "open(tflite_model_name, \"wb\").write(tflite_model)\n",
        "convert_bytes(get_file_size(TF_LITE_MODEL_FILE_NAME), \"KB\")\n",
        "\n",
        "# Convert the model.\n",
        "converter = tf.lite.TFLiteConverter.from_keras_model(model)\n",
        "tflite_model = converter.convert()\n",
        "# or using another method\n",
        "\n",
        "# Save the model.\n",
        "with open('/content/drive/MyDrive/Batik Datasets Saved Model/Batik-Datasets.tflite', 'wb') as f:\n",
        "  f.write(tflite_model)"
      ],
      "metadata": {
        "colab": {
          "base_uri": "https://localhost:8080/"
        },
        "id": "OPNKxwypagZh",
        "outputId": "f1d69b69-bb82-40a9-cc8a-378db20c1ac5"
      },
      "execution_count": null,
      "outputs": [
        {
          "output_type": "stream",
          "name": "stderr",
          "text": [
            "WARNING:absl:Function `_wrapped_model` contains input name(s) mobilenetv2_0.50_224_input with unsupported characters which will be renamed to mobilenetv2_0_50_224_input in the SavedModel.\n",
            "WARNING:absl:Found untraced functions such as _update_step_xla, _jit_compiled_convolution_op, _jit_compiled_convolution_op, _jit_compiled_convolution_op, _jit_compiled_convolution_op while saving (showing 5 of 53). These functions will not be directly callable after loading.\n"
          ]
        },
        {
          "output_type": "stream",
          "name": "stdout",
          "text": [
            "File size: 3191.074 Kilobytes\n"
          ]
        },
        {
          "output_type": "stream",
          "name": "stderr",
          "text": [
            "WARNING:absl:Function `_wrapped_model` contains input name(s) mobilenetv2_0.50_224_input with unsupported characters which will be renamed to mobilenetv2_0_50_224_input in the SavedModel.\n",
            "WARNING:absl:Found untraced functions such as _update_step_xla, _jit_compiled_convolution_op, _jit_compiled_convolution_op, _jit_compiled_convolution_op, _jit_compiled_convolution_op while saving (showing 5 of 53). These functions will not be directly callable after loading.\n"
          ]
        }
      ]
    },
    {
      "cell_type": "code",
      "source": [
        "interpreter = tf.lite.Interpreter(model_path = TF_LITE_MODEL_FILE_NAME)\n",
        "input_details = interpreter.get_input_details()\n",
        "output_details = interpreter.get_output_details()\n",
        "print(\"Input Shape:\", input_details[0]['shape'])\n",
        "print(\"Input Type:\", input_details[0]['dtype'])\n",
        "print(\"Output Shape:\", output_details[0]['shape'])\n",
        "print(\"Output Type:\", output_details[0]['dtype'])"
      ],
      "metadata": {
        "colab": {
          "base_uri": "https://localhost:8080/"
        },
        "id": "svjg6L5bcfh0",
        "outputId": "8d490d0f-381a-421c-a397-18f5cee0e713"
      },
      "execution_count": null,
      "outputs": [
        {
          "output_type": "stream",
          "name": "stdout",
          "text": [
            "Input Shape: [  1 224 224   3]\n",
            "Input Type: <class 'numpy.float32'>\n",
            "Output Shape: [1 5]\n",
            "Output Type: <class 'numpy.float32'>\n"
          ]
        }
      ]
    }
  ]
}